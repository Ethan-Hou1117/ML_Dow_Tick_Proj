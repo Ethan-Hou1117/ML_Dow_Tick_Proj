{
  "nbformat": 4,
  "nbformat_minor": 0,
  "metadata": {
    "colab": {
      "provenance": [],
      "authorship_tag": "ABX9TyPDCIB0fEkj/PaBS7n/1qvW",
      "include_colab_link": true
    },
    "kernelspec": {
      "name": "python3",
      "display_name": "Python 3"
    },
    "language_info": {
      "name": "python"
    }
  },
  "cells": [
    {
      "cell_type": "markdown",
      "metadata": {
        "id": "view-in-github",
        "colab_type": "text"
      },
      "source": [
        "<a href=\"https://colab.research.google.com/github/Ethan-Hou1117/ML_Dow_Tick_Proj/blob/main/ML_DOW_pred.ipynb\" target=\"_parent\"><img src=\"https://colab.research.google.com/assets/colab-badge.svg\" alt=\"Open In Colab\"/></a>"
      ]
    },
    {
      "cell_type": "code",
      "execution_count": null,
      "metadata": {
        "id": "PC3uhX-071o3"
      },
      "outputs": [],
      "source": [
        "import yfinance as yf \n",
        "import pandas as pd\n",
        "import os\n",
        "import matplotlib\n",
        "import sklearn\n"
      ]
    },
    {
      "cell_type": "code",
      "source": [
        "if os.path.exists(\"sp500.csv\"):\n",
        "    sp500 = pd.read_csv(\"sp500.csv\", index_col=0)\n",
        "else:\n",
        "    sp500 = yf.Ticker(\"^GSPC\")\n",
        "    sp500 = sp500.history(period=\"max\")\n",
        "    sp500.to_csv(\"sp500.csv\")"
      ],
      "metadata": {
        "id": "7pgJn6DtTuRq"
      },
      "execution_count": null,
      "outputs": []
    },
    {
      "cell_type": "code",
      "source": [
        "print(os.getcwd())"
      ],
      "metadata": {
        "colab": {
          "base_uri": "https://localhost:8080/"
        },
        "id": "s1m0dy82S0pR",
        "outputId": "cf905367-96d5-4195-8975-1305a25c8f19"
      },
      "execution_count": null,
      "outputs": [
        {
          "output_type": "stream",
          "name": "stdout",
          "text": [
            "/content\n"
          ]
        }
      ]
    },
    {
      "cell_type": "code",
      "source": [
        "dow_tick = yf.Ticker(\"^DJI\").history(period = \"max\")\n",
        "dow_tick.to_csv(\"dow_tick.csv\")\n",
        "dow_tick"
      ],
      "metadata": {
        "colab": {
          "base_uri": "https://localhost:8080/",
          "height": 455
        },
        "id": "eLKeBNTX91st",
        "outputId": "1392143b-542a-4237-b01e-b1a253c77ca7"
      },
      "execution_count": null,
      "outputs": [
        {
          "output_type": "execute_result",
          "data": {
            "text/plain": [
              "                                   Open          High           Low  \\\n",
              "Date                                                                  \n",
              "1992-01-02 00:00:00-05:00   3152.100098   3172.629883   3139.310059   \n",
              "1992-01-03 00:00:00-05:00   3172.399902   3210.639893   3165.919922   \n",
              "1992-01-06 00:00:00-05:00   3201.500000   3213.330078   3191.860107   \n",
              "1992-01-07 00:00:00-05:00   3200.100098   3210.199951   3184.479980   \n",
              "1992-01-08 00:00:00-05:00   3204.800049   3229.199951   3185.820068   \n",
              "...                                 ...           ...           ...   \n",
              "2022-11-29 00:00:00-05:00  33847.800781  33933.910156  33662.449219   \n",
              "2022-11-30 00:00:00-05:00  33795.429688  34589.769531  33583.769531   \n",
              "2022-12-01 00:00:00-05:00  34533.589844  34595.511719  34129.351562   \n",
              "2022-12-02 00:00:00-05:00  34265.449219  34483.210938  34039.730469   \n",
              "2022-12-05 00:00:00-05:00  34335.730469  34335.730469  33846.808594   \n",
              "\n",
              "                                  Close     Volume  Dividends  Stock Splits  \n",
              "Date                                                                         \n",
              "1992-01-02 00:00:00-05:00   3172.399902   23550000          0             0  \n",
              "1992-01-03 00:00:00-05:00   3201.500000   23620000          0             0  \n",
              "1992-01-06 00:00:00-05:00   3200.100098   27280000          0             0  \n",
              "1992-01-07 00:00:00-05:00   3204.800049   25510000          0             0  \n",
              "1992-01-08 00:00:00-05:00   3203.899902   29040000          0             0  \n",
              "...                                 ...        ...        ...           ...  \n",
              "2022-11-29 00:00:00-05:00  33852.531250  279750000          0             0  \n",
              "2022-11-30 00:00:00-05:00  34589.769531  524440000          0             0  \n",
              "2022-12-01 00:00:00-05:00  34395.011719  348720000          0             0  \n",
              "2022-12-02 00:00:00-05:00  34429.878906  290580000          0             0  \n",
              "2022-12-05 00:00:00-05:00  33947.101562  312960000          0             0  \n",
              "\n",
              "[7791 rows x 7 columns]"
            ],
            "text/html": [
              "\n",
              "  <div id=\"df-a53e02e4-0baa-4940-846a-77a5b6d2057d\">\n",
              "    <div class=\"colab-df-container\">\n",
              "      <div>\n",
              "<style scoped>\n",
              "    .dataframe tbody tr th:only-of-type {\n",
              "        vertical-align: middle;\n",
              "    }\n",
              "\n",
              "    .dataframe tbody tr th {\n",
              "        vertical-align: top;\n",
              "    }\n",
              "\n",
              "    .dataframe thead th {\n",
              "        text-align: right;\n",
              "    }\n",
              "</style>\n",
              "<table border=\"1\" class=\"dataframe\">\n",
              "  <thead>\n",
              "    <tr style=\"text-align: right;\">\n",
              "      <th></th>\n",
              "      <th>Open</th>\n",
              "      <th>High</th>\n",
              "      <th>Low</th>\n",
              "      <th>Close</th>\n",
              "      <th>Volume</th>\n",
              "      <th>Dividends</th>\n",
              "      <th>Stock Splits</th>\n",
              "    </tr>\n",
              "    <tr>\n",
              "      <th>Date</th>\n",
              "      <th></th>\n",
              "      <th></th>\n",
              "      <th></th>\n",
              "      <th></th>\n",
              "      <th></th>\n",
              "      <th></th>\n",
              "      <th></th>\n",
              "    </tr>\n",
              "  </thead>\n",
              "  <tbody>\n",
              "    <tr>\n",
              "      <th>1992-01-02 00:00:00-05:00</th>\n",
              "      <td>3152.100098</td>\n",
              "      <td>3172.629883</td>\n",
              "      <td>3139.310059</td>\n",
              "      <td>3172.399902</td>\n",
              "      <td>23550000</td>\n",
              "      <td>0</td>\n",
              "      <td>0</td>\n",
              "    </tr>\n",
              "    <tr>\n",
              "      <th>1992-01-03 00:00:00-05:00</th>\n",
              "      <td>3172.399902</td>\n",
              "      <td>3210.639893</td>\n",
              "      <td>3165.919922</td>\n",
              "      <td>3201.500000</td>\n",
              "      <td>23620000</td>\n",
              "      <td>0</td>\n",
              "      <td>0</td>\n",
              "    </tr>\n",
              "    <tr>\n",
              "      <th>1992-01-06 00:00:00-05:00</th>\n",
              "      <td>3201.500000</td>\n",
              "      <td>3213.330078</td>\n",
              "      <td>3191.860107</td>\n",
              "      <td>3200.100098</td>\n",
              "      <td>27280000</td>\n",
              "      <td>0</td>\n",
              "      <td>0</td>\n",
              "    </tr>\n",
              "    <tr>\n",
              "      <th>1992-01-07 00:00:00-05:00</th>\n",
              "      <td>3200.100098</td>\n",
              "      <td>3210.199951</td>\n",
              "      <td>3184.479980</td>\n",
              "      <td>3204.800049</td>\n",
              "      <td>25510000</td>\n",
              "      <td>0</td>\n",
              "      <td>0</td>\n",
              "    </tr>\n",
              "    <tr>\n",
              "      <th>1992-01-08 00:00:00-05:00</th>\n",
              "      <td>3204.800049</td>\n",
              "      <td>3229.199951</td>\n",
              "      <td>3185.820068</td>\n",
              "      <td>3203.899902</td>\n",
              "      <td>29040000</td>\n",
              "      <td>0</td>\n",
              "      <td>0</td>\n",
              "    </tr>\n",
              "    <tr>\n",
              "      <th>...</th>\n",
              "      <td>...</td>\n",
              "      <td>...</td>\n",
              "      <td>...</td>\n",
              "      <td>...</td>\n",
              "      <td>...</td>\n",
              "      <td>...</td>\n",
              "      <td>...</td>\n",
              "    </tr>\n",
              "    <tr>\n",
              "      <th>2022-11-29 00:00:00-05:00</th>\n",
              "      <td>33847.800781</td>\n",
              "      <td>33933.910156</td>\n",
              "      <td>33662.449219</td>\n",
              "      <td>33852.531250</td>\n",
              "      <td>279750000</td>\n",
              "      <td>0</td>\n",
              "      <td>0</td>\n",
              "    </tr>\n",
              "    <tr>\n",
              "      <th>2022-11-30 00:00:00-05:00</th>\n",
              "      <td>33795.429688</td>\n",
              "      <td>34589.769531</td>\n",
              "      <td>33583.769531</td>\n",
              "      <td>34589.769531</td>\n",
              "      <td>524440000</td>\n",
              "      <td>0</td>\n",
              "      <td>0</td>\n",
              "    </tr>\n",
              "    <tr>\n",
              "      <th>2022-12-01 00:00:00-05:00</th>\n",
              "      <td>34533.589844</td>\n",
              "      <td>34595.511719</td>\n",
              "      <td>34129.351562</td>\n",
              "      <td>34395.011719</td>\n",
              "      <td>348720000</td>\n",
              "      <td>0</td>\n",
              "      <td>0</td>\n",
              "    </tr>\n",
              "    <tr>\n",
              "      <th>2022-12-02 00:00:00-05:00</th>\n",
              "      <td>34265.449219</td>\n",
              "      <td>34483.210938</td>\n",
              "      <td>34039.730469</td>\n",
              "      <td>34429.878906</td>\n",
              "      <td>290580000</td>\n",
              "      <td>0</td>\n",
              "      <td>0</td>\n",
              "    </tr>\n",
              "    <tr>\n",
              "      <th>2022-12-05 00:00:00-05:00</th>\n",
              "      <td>34335.730469</td>\n",
              "      <td>34335.730469</td>\n",
              "      <td>33846.808594</td>\n",
              "      <td>33947.101562</td>\n",
              "      <td>312960000</td>\n",
              "      <td>0</td>\n",
              "      <td>0</td>\n",
              "    </tr>\n",
              "  </tbody>\n",
              "</table>\n",
              "<p>7791 rows × 7 columns</p>\n",
              "</div>\n",
              "      <button class=\"colab-df-convert\" onclick=\"convertToInteractive('df-a53e02e4-0baa-4940-846a-77a5b6d2057d')\"\n",
              "              title=\"Convert this dataframe to an interactive table.\"\n",
              "              style=\"display:none;\">\n",
              "        \n",
              "  <svg xmlns=\"http://www.w3.org/2000/svg\" height=\"24px\"viewBox=\"0 0 24 24\"\n",
              "       width=\"24px\">\n",
              "    <path d=\"M0 0h24v24H0V0z\" fill=\"none\"/>\n",
              "    <path d=\"M18.56 5.44l.94 2.06.94-2.06 2.06-.94-2.06-.94-.94-2.06-.94 2.06-2.06.94zm-11 1L8.5 8.5l.94-2.06 2.06-.94-2.06-.94L8.5 2.5l-.94 2.06-2.06.94zm10 10l.94 2.06.94-2.06 2.06-.94-2.06-.94-.94-2.06-.94 2.06-2.06.94z\"/><path d=\"M17.41 7.96l-1.37-1.37c-.4-.4-.92-.59-1.43-.59-.52 0-1.04.2-1.43.59L10.3 9.45l-7.72 7.72c-.78.78-.78 2.05 0 2.83L4 21.41c.39.39.9.59 1.41.59.51 0 1.02-.2 1.41-.59l7.78-7.78 2.81-2.81c.8-.78.8-2.07 0-2.86zM5.41 20L4 18.59l7.72-7.72 1.47 1.35L5.41 20z\"/>\n",
              "  </svg>\n",
              "      </button>\n",
              "      \n",
              "  <style>\n",
              "    .colab-df-container {\n",
              "      display:flex;\n",
              "      flex-wrap:wrap;\n",
              "      gap: 12px;\n",
              "    }\n",
              "\n",
              "    .colab-df-convert {\n",
              "      background-color: #E8F0FE;\n",
              "      border: none;\n",
              "      border-radius: 50%;\n",
              "      cursor: pointer;\n",
              "      display: none;\n",
              "      fill: #1967D2;\n",
              "      height: 32px;\n",
              "      padding: 0 0 0 0;\n",
              "      width: 32px;\n",
              "    }\n",
              "\n",
              "    .colab-df-convert:hover {\n",
              "      background-color: #E2EBFA;\n",
              "      box-shadow: 0px 1px 2px rgba(60, 64, 67, 0.3), 0px 1px 3px 1px rgba(60, 64, 67, 0.15);\n",
              "      fill: #174EA6;\n",
              "    }\n",
              "\n",
              "    [theme=dark] .colab-df-convert {\n",
              "      background-color: #3B4455;\n",
              "      fill: #D2E3FC;\n",
              "    }\n",
              "\n",
              "    [theme=dark] .colab-df-convert:hover {\n",
              "      background-color: #434B5C;\n",
              "      box-shadow: 0px 1px 3px 1px rgba(0, 0, 0, 0.15);\n",
              "      filter: drop-shadow(0px 1px 2px rgba(0, 0, 0, 0.3));\n",
              "      fill: #FFFFFF;\n",
              "    }\n",
              "  </style>\n",
              "\n",
              "      <script>\n",
              "        const buttonEl =\n",
              "          document.querySelector('#df-a53e02e4-0baa-4940-846a-77a5b6d2057d button.colab-df-convert');\n",
              "        buttonEl.style.display =\n",
              "          google.colab.kernel.accessAllowed ? 'block' : 'none';\n",
              "\n",
              "        async function convertToInteractive(key) {\n",
              "          const element = document.querySelector('#df-a53e02e4-0baa-4940-846a-77a5b6d2057d');\n",
              "          const dataTable =\n",
              "            await google.colab.kernel.invokeFunction('convertToInteractive',\n",
              "                                                     [key], {});\n",
              "          if (!dataTable) return;\n",
              "\n",
              "          const docLinkHtml = 'Like what you see? Visit the ' +\n",
              "            '<a target=\"_blank\" href=https://colab.research.google.com/notebooks/data_table.ipynb>data table notebook</a>'\n",
              "            + ' to learn more about interactive tables.';\n",
              "          element.innerHTML = '';\n",
              "          dataTable['output_type'] = 'display_data';\n",
              "          await google.colab.output.renderOutput(dataTable, element);\n",
              "          const docLink = document.createElement('div');\n",
              "          docLink.innerHTML = docLinkHtml;\n",
              "          element.appendChild(docLink);\n",
              "        }\n",
              "      </script>\n",
              "    </div>\n",
              "  </div>\n",
              "  "
            ]
          },
          "metadata": {},
          "execution_count": 44
        }
      ]
    },
    {
      "cell_type": "markdown",
      "source": [
        "# Data Cleaning and Data Visualization (using matplotlib):\n"
      ],
      "metadata": {
        "id": "XZnZeaDC_302"
      }
    },
    {
      "cell_type": "code",
      "source": [
        "dow_tick.plot.line(y=\"Close\", use_index = True)"
      ],
      "metadata": {
        "colab": {
          "base_uri": "https://localhost:8080/",
          "height": 287
        },
        "id": "cGH3ILma-iB3",
        "outputId": "fcc9a388-3bee-4ab6-db85-ff0d15d44d65"
      },
      "execution_count": null,
      "outputs": [
        {
          "output_type": "execute_result",
          "data": {
            "text/plain": [
              "<matplotlib.axes._subplots.AxesSubplot at 0x7f293ce23fd0>"
            ]
          },
          "metadata": {},
          "execution_count": 45
        },
        {
          "output_type": "display_data",
          "data": {
            "text/plain": [
              "<Figure size 432x288 with 1 Axes>"
            ],
            "image/png": "[encoded data removed]"
          },
          "metadata": {
            "needs_background": "light"
          }
        }
      ]
    },
    {
      "cell_type": "markdown",
      "source": [
        "#Data Cleaning/Manipulation:"
      ],
      "metadata": {
        "id": "L8AWCRIEUOin"
      }
    },
    {
      "cell_type": "code",
      "source": [
        "dow_tick[\"Tomorrow\"] = dow_tick[\"Close\"].shift(-1)\n",
        "dow_tick"
      ],
      "metadata": {
        "colab": {
          "base_uri": "https://localhost:8080/",
          "height": 455
        },
        "id": "YAEmlreAT8Z-",
        "outputId": "b0438a06-9947-43a9-8ae0-bffad431d480"
      },
      "execution_count": null,
      "outputs": [
        {
          "output_type": "execute_result",
          "data": {
            "text/plain": [
              "                                   Open          High           Low  \\\n",
              "Date                                                                  \n",
              "1992-01-02 00:00:00-05:00   3152.100098   3172.629883   3139.310059   \n",
              "1992-01-03 00:00:00-05:00   3172.399902   3210.639893   3165.919922   \n",
              "1992-01-06 00:00:00-05:00   3201.500000   3213.330078   3191.860107   \n",
              "1992-01-07 00:00:00-05:00   3200.100098   3210.199951   3184.479980   \n",
              "1992-01-08 00:00:00-05:00   3204.800049   3229.199951   3185.820068   \n",
              "...                                 ...           ...           ...   \n",
              "2022-11-29 00:00:00-05:00  33847.800781  33933.910156  33662.449219   \n",
              "2022-11-30 00:00:00-05:00  33795.429688  34589.769531  33583.769531   \n",
              "2022-12-01 00:00:00-05:00  34533.589844  34595.511719  34129.351562   \n",
              "2022-12-02 00:00:00-05:00  34265.449219  34483.210938  34039.730469   \n",
              "2022-12-05 00:00:00-05:00  34335.730469  34335.730469  33846.808594   \n",
              "\n",
              "                                  Close     Volume  Dividends  Stock Splits  \\\n",
              "Date                                                                          \n",
              "1992-01-02 00:00:00-05:00   3172.399902   23550000          0             0   \n",
              "1992-01-03 00:00:00-05:00   3201.500000   23620000          0             0   \n",
              "1992-01-06 00:00:00-05:00   3200.100098   27280000          0             0   \n",
              "1992-01-07 00:00:00-05:00   3204.800049   25510000          0             0   \n",
              "1992-01-08 00:00:00-05:00   3203.899902   29040000          0             0   \n",
              "...                                 ...        ...        ...           ...   \n",
              "2022-11-29 00:00:00-05:00  33852.531250  279750000          0             0   \n",
              "2022-11-30 00:00:00-05:00  34589.769531  524440000          0             0   \n",
              "2022-12-01 00:00:00-05:00  34395.011719  348720000          0             0   \n",
              "2022-12-02 00:00:00-05:00  34429.878906  290580000          0             0   \n",
              "2022-12-05 00:00:00-05:00  33947.101562  312960000          0             0   \n",
              "\n",
              "                               Tomorrow  \n",
              "Date                                     \n",
              "1992-01-02 00:00:00-05:00   3201.500000  \n",
              "1992-01-03 00:00:00-05:00   3200.100098  \n",
              "1992-01-06 00:00:00-05:00   3204.800049  \n",
              "1992-01-07 00:00:00-05:00   3203.899902  \n",
              "1992-01-08 00:00:00-05:00   3209.500000  \n",
              "...                                 ...  \n",
              "2022-11-29 00:00:00-05:00  34589.769531  \n",
              "2022-11-30 00:00:00-05:00  34395.011719  \n",
              "2022-12-01 00:00:00-05:00  34429.878906  \n",
              "2022-12-02 00:00:00-05:00  33947.101562  \n",
              "2022-12-05 00:00:00-05:00           NaN  \n",
              "\n",
              "[7791 rows x 8 columns]"
            ],
            "text/html": [
              "\n",
              "  <div id=\"df-893c6a31-3984-4316-bdc7-259ad5fd2a60\">\n",
              "    <div class=\"colab-df-container\">\n",
              "      <div>\n",
              "<style scoped>\n",
              "    .dataframe tbody tr th:only-of-type {\n",
              "        vertical-align: middle;\n",
              "    }\n",
              "\n",
              "    .dataframe tbody tr th {\n",
              "        vertical-align: top;\n",
              "    }\n",
              "\n",
              "    .dataframe thead th {\n",
              "        text-align: right;\n",
              "    }\n",
              "</style>\n",
              "<table border=\"1\" class=\"dataframe\">\n",
              "  <thead>\n",
              "    <tr style=\"text-align: right;\">\n",
              "      <th></th>\n",
              "      <th>Open</th>\n",
              "      <th>High</th>\n",
              "      <th>Low</th>\n",
              "      <th>Close</th>\n",
              "      <th>Volume</th>\n",
              "      <th>Dividends</th>\n",
              "      <th>Stock Splits</th>\n",
              "      <th>Tomorrow</th>\n",
              "    </tr>\n",
              "    <tr>\n",
              "      <th>Date</th>\n",
              "      <th></th>\n",
              "      <th></th>\n",
              "      <th></th>\n",
              "      <th></th>\n",
              "      <th></th>\n",
              "      <th></th>\n",
              "      <th></th>\n",
              "      <th></th>\n",
              "    </tr>\n",
              "  </thead>\n",
              "  <tbody>\n",
              "    <tr>\n",
              "      <th>1992-01-02 00:00:00-05:00</th>\n",
              "      <td>3152.100098</td>\n",
              "      <td>3172.629883</td>\n",
              "      <td>3139.310059</td>\n",
              "      <td>3172.399902</td>\n",
              "      <td>23550000</td>\n",
              "      <td>0</td>\n",
              "      <td>0</td>\n",
              "      <td>3201.500000</td>\n",
              "    </tr>\n",
              "    <tr>\n",
              "      <th>1992-01-03 00:00:00-05:00</th>\n",
              "      <td>3172.399902</td>\n",
              "      <td>3210.639893</td>\n",
              "      <td>3165.919922</td>\n",
              "      <td>3201.500000</td>\n",
              "      <td>23620000</td>\n",
              "      <td>0</td>\n",
              "      <td>0</td>\n",
              "      <td>3200.100098</td>\n",
              "    </tr>\n",
              "    <tr>\n",
              "      <th>1992-01-06 00:00:00-05:00</th>\n",
              "      <td>3201.500000</td>\n",
              "      <td>3213.330078</td>\n",
              "      <td>3191.860107</td>\n",
              "      <td>3200.100098</td>\n",
              "      <td>27280000</td>\n",
              "      <td>0</td>\n",
              "      <td>0</td>\n",
              "      <td>3204.800049</td>\n",
              "    </tr>\n",
              "    <tr>\n",
              "      <th>1992-01-07 00:00:00-05:00</th>\n",
              "      <td>3200.100098</td>\n",
              "      <td>3210.199951</td>\n",
              "      <td>3184.479980</td>\n",
              "      <td>3204.800049</td>\n",
              "      <td>25510000</td>\n",
              "      <td>0</td>\n",
              "      <td>0</td>\n",
              "      <td>3203.899902</td>\n",
              "    </tr>\n",
              "    <tr>\n",
              "      <th>1992-01-08 00:00:00-05:00</th>\n",
              "      <td>3204.800049</td>\n",
              "      <td>3229.199951</td>\n",
              "      <td>3185.820068</td>\n",
              "      <td>3203.899902</td>\n",
              "      <td>29040000</td>\n",
              "      <td>0</td>\n",
              "      <td>0</td>\n",
              "      <td>3209.500000</td>\n",
              "    </tr>\n",
              "    <tr>\n",
              "      <th>...</th>\n",
              "      <td>...</td>\n",
              "      <td>...</td>\n",
              "      <td>...</td>\n",
              "      <td>...</td>\n",
              "      <td>...</td>\n",
              "      <td>...</td>\n",
              "      <td>...</td>\n",
              "      <td>...</td>\n",
              "    </tr>\n",
              "    <tr>\n",
              "      <th>2022-11-29 00:00:00-05:00</th>\n",
              "      <td>33847.800781</td>\n",
              "      <td>33933.910156</td>\n",
              "      <td>33662.449219</td>\n",
              "      <td>33852.531250</td>\n",
              "      <td>279750000</td>\n",
              "      <td>0</td>\n",
              "      <td>0</td>\n",
              "      <td>34589.769531</td>\n",
              "    </tr>\n",
              "    <tr>\n",
              "      <th>2022-11-30 00:00:00-05:00</th>\n",
              "      <td>33795.429688</td>\n",
              "      <td>34589.769531</td>\n",
              "      <td>33583.769531</td>\n",
              "      <td>34589.769531</td>\n",
              "      <td>524440000</td>\n",
              "      <td>0</td>\n",
              "      <td>0</td>\n",
              "      <td>34395.011719</td>\n",
              "    </tr>\n",
              "    <tr>\n",
              "      <th>2022-12-01 00:00:00-05:00</th>\n",
              "      <td>34533.589844</td>\n",
              "      <td>34595.511719</td>\n",
              "      <td>34129.351562</td>\n",
              "      <td>34395.011719</td>\n",
              "      <td>348720000</td>\n",
              "      <td>0</td>\n",
              "      <td>0</td>\n",
              "      <td>34429.878906</td>\n",
              "    </tr>\n",
              "    <tr>\n",
              "      <th>2022-12-02 00:00:00-05:00</th>\n",
              "      <td>34265.449219</td>\n",
              "      <td>34483.210938</td>\n",
              "      <td>34039.730469</td>\n",
              "      <td>34429.878906</td>\n",
              "      <td>290580000</td>\n",
              "      <td>0</td>\n",
              "      <td>0</td>\n",
              "      <td>33947.101562</td>\n",
              "    </tr>\n",
              "    <tr>\n",
              "      <th>2022-12-05 00:00:00-05:00</th>\n",
              "      <td>34335.730469</td>\n",
              "      <td>34335.730469</td>\n",
              "      <td>33846.808594</td>\n",
              "      <td>33947.101562</td>\n",
              "      <td>312960000</td>\n",
              "      <td>0</td>\n",
              "      <td>0</td>\n",
              "      <td>NaN</td>\n",
              "    </tr>\n",
              "  </tbody>\n",
              "</table>\n",
              "<p>7791 rows × 8 columns</p>\n",
              "</div>\n",
              "      <button class=\"colab-df-convert\" onclick=\"convertToInteractive('df-893c6a31-3984-4316-bdc7-259ad5fd2a60')\"\n",
              "              title=\"Convert this dataframe to an interactive table.\"\n",
              "              style=\"display:none;\">\n",
              "        \n",
              "  <svg xmlns=\"http://www.w3.org/2000/svg\" height=\"24px\"viewBox=\"0 0 24 24\"\n",
              "       width=\"24px\">\n",
              "    <path d=\"M0 0h24v24H0V0z\" fill=\"none\"/>\n",
              "    <path d=\"M18.56 5.44l.94 2.06.94-2.06 2.06-.94-2.06-.94-.94-2.06-.94 2.06-2.06.94zm-11 1L8.5 8.5l.94-2.06 2.06-.94-2.06-.94L8.5 2.5l-.94 2.06-2.06.94zm10 10l.94 2.06.94-2.06 2.06-.94-2.06-.94-.94-2.06-.94 2.06-2.06.94z\"/><path d=\"M17.41 7.96l-1.37-1.37c-.4-.4-.92-.59-1.43-.59-.52 0-1.04.2-1.43.59L10.3 9.45l-7.72 7.72c-.78.78-.78 2.05 0 2.83L4 21.41c.39.39.9.59 1.41.59.51 0 1.02-.2 1.41-.59l7.78-7.78 2.81-2.81c.8-.78.8-2.07 0-2.86zM5.41 20L4 18.59l7.72-7.72 1.47 1.35L5.41 20z\"/>\n",
              "  </svg>\n",
              "      </button>\n",
              "      \n",
              "  <style>\n",
              "    .colab-df-container {\n",
              "      display:flex;\n",
              "      flex-wrap:wrap;\n",
              "      gap: 12px;\n",
              "    }\n",
              "\n",
              "    .colab-df-convert {\n",
              "      background-color: #E8F0FE;\n",
              "      border: none;\n",
              "      border-radius: 50%;\n",
              "      cursor: pointer;\n",
              "      display: none;\n",
              "      fill: #1967D2;\n",
              "      height: 32px;\n",
              "      padding: 0 0 0 0;\n",
              "      width: 32px;\n",
              "    }\n",
              "\n",
              "    .colab-df-convert:hover {\n",
              "      background-color: #E2EBFA;\n",
              "      box-shadow: 0px 1px 2px rgba(60, 64, 67, 0.3), 0px 1px 3px 1px rgba(60, 64, 67, 0.15);\n",
              "      fill: #174EA6;\n",
              "    }\n",
              "\n",
              "    [theme=dark] .colab-df-convert {\n",
              "      background-color: #3B4455;\n",
              "      fill: #D2E3FC;\n",
              "    }\n",
              "\n",
              "    [theme=dark] .colab-df-convert:hover {\n",
              "      background-color: #434B5C;\n",
              "      box-shadow: 0px 1px 3px 1px rgba(0, 0, 0, 0.15);\n",
              "      filter: drop-shadow(0px 1px 2px rgba(0, 0, 0, 0.3));\n",
              "      fill: #FFFFFF;\n",
              "    }\n",
              "  </style>\n",
              "\n",
              "      <script>\n",
              "        const buttonEl =\n",
              "          document.querySelector('#df-893c6a31-3984-4316-bdc7-259ad5fd2a60 button.colab-df-convert');\n",
              "        buttonEl.style.display =\n",
              "          google.colab.kernel.accessAllowed ? 'block' : 'none';\n",
              "\n",
              "        async function convertToInteractive(key) {\n",
              "          const element = document.querySelector('#df-893c6a31-3984-4316-bdc7-259ad5fd2a60');\n",
              "          const dataTable =\n",
              "            await google.colab.kernel.invokeFunction('convertToInteractive',\n",
              "                                                     [key], {});\n",
              "          if (!dataTable) return;\n",
              "\n",
              "          const docLinkHtml = 'Like what you see? Visit the ' +\n",
              "            '<a target=\"_blank\" href=https://colab.research.google.com/notebooks/data_table.ipynb>data table notebook</a>'\n",
              "            + ' to learn more about interactive tables.';\n",
              "          element.innerHTML = '';\n",
              "          dataTable['output_type'] = 'display_data';\n",
              "          await google.colab.output.renderOutput(dataTable, element);\n",
              "          const docLink = document.createElement('div');\n",
              "          docLink.innerHTML = docLinkHtml;\n",
              "          element.appendChild(docLink);\n",
              "        }\n",
              "      </script>\n",
              "    </div>\n",
              "  </div>\n",
              "  "
            ]
          },
          "metadata": {},
          "execution_count": 46
        }
      ]
    },
    {
      "cell_type": "code",
      "source": [
        "dow_tick = dow_tick.loc[\"1990-01-01\":].copy()\n",
        "dow_tick[\"Target\"] = (dow_tick[\"Tomorrow\"] > dow_tick[\"Close\"]).astype(int)"
      ],
      "metadata": {
        "id": "qi-roc-RUGwv"
      },
      "execution_count": null,
      "outputs": []
    },
    {
      "cell_type": "markdown",
      "source": [
        "#Machine Learning Classification (using Random Forest):"
      ],
      "metadata": {
        "id": "AFqr4gKLUVkF"
      }
    },
    {
      "cell_type": "code",
      "source": [
        "from sklearn.ensemble import RandomForestClassifier\n",
        "\n",
        "model = RandomForestClassifier(n_estimators=100, min_samples_split=100, random_state=1)\n",
        "\n",
        "train = dow_tick.iloc[:-100]\n",
        "test = dow_tick.iloc[-100:]\n",
        "\n",
        "\n",
        "predictors = [\"Close\", \"Volume\", \"Open\", \"High\", \"Low\"]\n",
        "\n",
        "def predict(model, train, test, predictors):\n",
        "  model.fit(train[predictors], train[\"Target\"])\n",
        "  preds = model.predict_proba(test[predictors])[:,1]\n",
        "  preds[preds >=.6] = 1\n",
        "  preds[preds <.6] = 0\n",
        "  preds = pd.Series(preds, index = test.index, name = \"Predictions\")\n",
        "  combined = pd.concat([test[\"Target\"], preds], axis = 1)\n",
        "\n",
        "  precision_score = sklearn.metrics.precision_score(test[\"Target\"], preds)\n",
        "  return combined\n",
        "\n",
        "#predict(model, train, test, predictors)\n",
        "\n",
        "\n",
        "def backtest(data, model, predictors, start = 2500, step = 250):\n",
        "  all_preds = []\n",
        "\n",
        "  for i in range(start, data.shape[0], step):\n",
        "    train = data.iloc[:i]\n",
        "    test = data.iloc[i:i+step]\n",
        "    preds = predict(model, train, test, predictors)\n",
        "    all_preds.append(preds)\n",
        "  \n",
        "  return pd.concat(all_preds)\n",
        "\n",
        "all_preds = backtest(dow_tick, model, predictors)\n",
        "\n",
        "accuracy = sklearn.metrics.precision_score(all_preds[\"Target\"], all_preds[\"Predictions\"])\n",
        "accuracy"
      ],
      "metadata": {
        "id": "2U6s9PV6UUfH",
        "colab": {
          "base_uri": "https://localhost:8080/"
        },
        "outputId": "6759e305-17d2-413b-eafb-60872888c643"
      },
      "execution_count": null,
      "outputs": [
        {
          "output_type": "stream",
          "name": "stderr",
          "text": [
            "/usr/local/lib/python3.8/dist-packages/sklearn/metrics/_classification.py:1318: UndefinedMetricWarning: Precision is ill-defined and being set to 0.0 due to no predicted samples. Use `zero_division` parameter to control this behavior.\n",
            "  _warn_prf(average, modifier, msg_start, len(result))\n"
          ]
        },
        {
          "output_type": "execute_result",
          "data": {
            "text/plain": [
              "0.5291666666666667"
            ]
          },
          "metadata": {},
          "execution_count": 98
        }
      ]
    },
    {
      "cell_type": "markdown",
      "source": [
        "# Advanced Predictors"
      ],
      "metadata": {
        "id": "ZhI1NSpingMP"
      }
    },
    {
      "cell_type": "code",
      "source": [
        "horizons = [2,5, 7, 30, 365]\n",
        "new_preds = []\n",
        "\n",
        "for horizon in horizons:\n",
        "  rolling_averages = dow_tick.rolling(horizon).mean()\n",
        "\n",
        "  ratio_column = f\"Ratio_Column_{horizon}\"\n",
        "  dow_tick[ratio_column] = rolling_averages[\"Close\"] / dow_tick[\"Close\"]\n",
        "\n",
        "  trend_column = f\"Trend_Column_{horizon}\"\n",
        "  dow_tick[trend_column] = dow_tick.shift(1).rolling(horizon).sum()[\"Target\"]\n",
        "\n",
        "  new_preds += (ratio_column, trend_column)\n",
        "\n",
        "dow_tick = dow_tick.dropna()"
      ],
      "metadata": {
        "id": "aZ9oWXpQaWZC"
      },
      "execution_count": null,
      "outputs": []
    },
    {
      "cell_type": "code",
      "source": [
        "predictions = backtest(dow_tick, model, new_preds)\n",
        "sklearn.metrics.precision_score(predictions[\"Target\"], predictions[\"Predictions\"])\n"
      ],
      "metadata": {
        "colab": {
          "base_uri": "https://localhost:8080/"
        },
        "id": "SdL8VypMplBk",
        "outputId": "ea740874-6d2f-4b54-9afd-ec13619b6908"
      },
      "execution_count": null,
      "outputs": [
        {
          "output_type": "execute_result",
          "data": {
            "text/plain": [
              "0.562363238512035"
            ]
          },
          "metadata": {},
          "execution_count": 100
        }
      ]
    },
    {
      "cell_type": "code",
      "source": [],
      "metadata": {
        "id": "7KpRFmk8pfmu"
      },
      "execution_count": null,
      "outputs": []
    },
    {
      "cell_type": "code",
      "source": [],
      "metadata": {
        "id": "QStFKrq7xZlR"
      },
      "execution_count": null,
      "outputs": []
    }
  ]
}